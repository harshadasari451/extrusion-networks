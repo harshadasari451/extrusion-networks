{
 "cells": [
  {
   "cell_type": "code",
   "execution_count": 1,
   "metadata": {},
   "outputs": [],
   "source": [
    "import pandas as pd\n",
    "import numpy as np\n",
    "import torch\n",
    "\n",
    "import torch.nn as nn\n",
    "import torch.nn.functional as F\n",
    "import torch.optim as optim\n",
    "from torch.utils.data import Dataset, DataLoader\n",
    "from tqdm import tqdm\n",
    "import matplotlib.pyplot as plt\n",
    "from sklearn.model_selection import train_test_split\n",
    "from collections import OrderedDict"
   ]
  },
  {
   "cell_type": "code",
   "execution_count": 3,
   "metadata": {},
   "outputs": [
    {
     "name": "stdout",
     "output_type": "stream",
     "text": [
      "Train split shape: (6, 375, 43, 1, 160)\n",
      "Validation split shape: (6, 125, 43, 1, 160)\n",
      "Test split shape: (6, 20, 43, 1, 160)\n"
     ]
    }
   ],
   "source": [
    "import numpy as np\n",
    "\n",
    "exp_train_list = [np.load(f\"/home/CAMPUS/hdasari/apebench_experiments/ks_1d/data/KS_1d_train_data_exp{i}.npy\") for i in range(1, 7)]\n",
    "exp_test_list = [np.load(f\"/home/CAMPUS/hdasari/apebench_experiments/ks_1d/data/KS_1d_test_data_exp{i}.npy\") for i in range(1, 7)]\n",
    "\n",
    "train_split = []\n",
    "val_split = []\n",
    "test_split = []\n",
    "\n",
    "for data, data_test in zip(exp_train_list, exp_test_list):\n",
    "    num_samples = data.shape[0]\n",
    "    split_index = int(num_samples * 0.75)\n",
    "    train_split.append(data[:split_index])\n",
    "    val_split.append(data[split_index:])  # 10% as validation\n",
    "    test_split.append(data_test)  # Test data is not split\n",
    "\n",
    "\n",
    "ks_train = np.stack(train_split, axis=0)  # 6 , 450 \n",
    "ks_val = np.stack(val_split, axis=0)      # 6 , 50\n",
    "ks_test = np.stack(test_split, axis=0)    # 6 , 20\n",
    "\n",
    "print(\"Train split shape:\", ks_train.shape)\n",
    "print(\"Validation split shape:\", ks_val.shape)\n",
    "print(\"Test split shape:\", ks_test.shape)\n"
   ]
  },
  {
   "cell_type": "markdown",
   "metadata": {},
   "source": [
    "# Dataset class"
   ]
  },
  {
   "cell_type": "markdown",
   "metadata": {},
   "source": [
    "- the below KSDataset make a data based on unrolled training, that means \n",
    "for predicting x(t+seq) input is x(t),x(t+1),........upto x(t+seq)\n",
    "- if we want the model to predict x(t+1) given x(t), just make the seq value to 1. \n"
   ]
  },
  {
   "cell_type": "code",
   "execution_count": 4,
   "metadata": {},
   "outputs": [],
   "source": [
    "import torch\n",
    "from torch.utils.data import Dataset\n",
    "\n",
    "class KSDataset(Dataset):\n",
    "    def __init__(self, ks_array, seq_length):\n",
    "        self.inputs = []\n",
    "        self.targets = []\n",
    "\n",
    "        num_experiments, num_sims, time_steps, _, spatial_dim = ks_array.shape\n",
    "\n",
    "        for exp in range(num_experiments):\n",
    "            for sim in range(num_sims):\n",
    "                for t in range(time_steps - seq_length):\n",
    "                    # Sequence: (seq_length, spatial_dim)\n",
    "                    x_seq = ks_array[exp, sim, t:t+seq_length, 0, :]\n",
    "                    y_target = ks_array[exp, sim, t + seq_length, 0, :]\n",
    "\n",
    "                    self.inputs.append(torch.tensor(x_seq, dtype=torch.float32))\n",
    "                    self.targets.append(torch.tensor(y_target, dtype=torch.float32))\n",
    "\n",
    "        self.inputs = torch.stack(self.inputs)    # (N, seq_length, spatial_dim)\n",
    "        self.targets = torch.stack(self.targets)  # (N, spatial_dim)\n",
    "\n",
    "    def __len__(self):\n",
    "        return len(self.inputs)\n",
    "\n",
    "    def __getitem__(self, idx):\n",
    "        return self.inputs[idx], self.targets[idx]\n"
   ]
  },
  {
   "cell_type": "markdown",
   "metadata": {},
   "source": [
    "# Models"
   ]
  },
  {
   "cell_type": "markdown",
   "metadata": {},
   "source": [
    "## Unet model"
   ]
  },
  {
   "cell_type": "code",
   "execution_count": 5,
   "metadata": {},
   "outputs": [],
   "source": [
    "class UNet1d(nn.Module):\n",
    "    def __init__(self, in_channels=1, out_channels=1, init_features=32):\n",
    "        super().__init__()\n",
    "\n",
    "        features = init_features\n",
    "        self.encoder1 = UNet1d._block(in_channels, features, name=\"enc1\")\n",
    "        self.pool1 = nn.MaxPool1d(kernel_size=2, stride=2)\n",
    "        self.encoder2 = UNet1d._block(features, features * 2, name=\"enc2\")\n",
    "        self.pool2 = nn.MaxPool1d(kernel_size=2, stride=2)\n",
    "        self.encoder3 = UNet1d._block(features * 2, features * 4, name=\"enc3\")\n",
    "        self.pool3 = nn.MaxPool1d(kernel_size=2, stride=2)\n",
    "        self.encoder4 = UNet1d._block(features * 4, features * 8, name=\"enc4\")\n",
    "        self.pool4 = nn.MaxPool1d(kernel_size=2, stride=2)\n",
    "\n",
    "        self.bottleneck = UNet1d._block(features * 8, features * 16, name=\"bottleneck\")\n",
    "\n",
    "        self.upconv4 = nn.ConvTranspose1d(\n",
    "            features * 16, features * 8, kernel_size=2, stride=2\n",
    "        )\n",
    "        self.decoder4 = UNet1d._block((features * 8) * 2, features * 8, name=\"dec4\")\n",
    "        self.upconv3 = nn.ConvTranspose1d(\n",
    "            features * 8, features * 4, kernel_size=2, stride=2\n",
    "        )\n",
    "        self.decoder3 = UNet1d._block((features * 4) * 2, features * 4, name=\"dec3\")\n",
    "        self.upconv2 = nn.ConvTranspose1d(\n",
    "            features * 4, features * 2, kernel_size=2, stride=2\n",
    "        )\n",
    "        self.decoder2 = UNet1d._block((features * 2) * 2, features * 2, name=\"dec2\")\n",
    "        self.upconv1 = nn.ConvTranspose1d(\n",
    "            features * 2, features, kernel_size=2, stride=2\n",
    "        )\n",
    "        self.decoder1 = UNet1d._block(features * 2, features, name=\"dec1\")\n",
    "\n",
    "        self.conv = nn.Conv1d(\n",
    "            in_channels=features, out_channels=out_channels, kernel_size=1\n",
    "        )\n",
    "\n",
    "    def forward(self, x):\n",
    "        enc1 = self.encoder1(x)\n",
    "        enc2 = self.encoder2(self.pool1(enc1))\n",
    "        enc3 = self.encoder3(self.pool2(enc2))\n",
    "        enc4 = self.encoder4(self.pool3(enc3))\n",
    "\n",
    "        bottleneck = self.bottleneck(self.pool4(enc4))\n",
    "\n",
    "        dec4 = self.upconv4(bottleneck)\n",
    "        dec4 = torch.cat((dec4, enc4), dim=1)\n",
    "        dec4 = self.decoder4(dec4)\n",
    "        dec3 = self.upconv3(dec4)\n",
    "        dec3 = torch.cat((dec3, enc3), dim=1)\n",
    "        dec3 = self.decoder3(dec3)\n",
    "        dec2 = self.upconv2(dec3)\n",
    "        dec2 = torch.cat((dec2, enc2), dim=1)\n",
    "        dec2 = self.decoder2(dec2)\n",
    "        dec1 = self.upconv1(dec2)\n",
    "        dec1 = torch.cat((dec1, enc1), dim=1)\n",
    "        dec1 = self.decoder1(dec1)\n",
    "        return self.conv(dec1)\n",
    "\n",
    "    @staticmethod\n",
    "    def _block(in_channels, features, name):\n",
    "        return nn.Sequential(\n",
    "            OrderedDict(\n",
    "                [\n",
    "                    (\n",
    "                        name + \"conv1\",\n",
    "                        nn.Conv1d(\n",
    "                            in_channels=in_channels,\n",
    "                            out_channels=features,\n",
    "                            kernel_size=3,\n",
    "                            padding=1,\n",
    "                            bias=False,\n",
    "                        ),\n",
    "                    ),\n",
    "                    (name + \"norm1\", nn.BatchNorm1d(num_features=features)),\n",
    "                    (name + \"tanh1\", nn.Tanh()),\n",
    "                    (\n",
    "                        name + \"conv2\",\n",
    "                        nn.Conv1d(\n",
    "                            in_channels=features,\n",
    "                            out_channels=features,\n",
    "                            kernel_size=3,\n",
    "                            padding=1,\n",
    "                            bias=False,\n",
    "                        ),\n",
    "                    ),\n",
    "                    (name + \"norm2\", nn.BatchNorm1d(num_features=features)),\n",
    "                    (name + \"tanh2\", nn.Tanh()),\n",
    "                ]\n",
    "            )\n",
    "        )\n",
    "\n"
   ]
  },
  {
   "cell_type": "markdown",
   "metadata": {},
   "source": [
    "# Training"
   ]
  },
  {
   "cell_type": "code",
   "execution_count": 6,
   "metadata": {},
   "outputs": [],
   "source": [
    "device = \"cuda\" if torch.cuda.is_available() else \"cpu\"\n",
    "model = UNet1d().to(device)\n",
    "criterion = nn.MSELoss(reduction=\"mean\")\n",
    "optimizer = optim.Adam(model.parameters(), lr=1e-3)\n",
    "epochs = 20"
   ]
  },
  {
   "cell_type": "code",
   "execution_count": 7,
   "metadata": {},
   "outputs": [],
   "source": [
    "seq_length = 1\n",
    "train_dataset = KSDataset(ks_train, seq_length)\n",
    "val_dataset = KSDataset(ks_val, seq_length)\n",
    "test_dataset = KSDataset(ks_test, seq_length)\n",
    "\n",
    "train_loader = DataLoader(train_dataset, batch_size=32, shuffle=True)\n",
    "val_loader = DataLoader(val_dataset, batch_size=32)\n",
    "test_loader = DataLoader(test_dataset, batch_size=32)"
   ]
  },
  {
   "cell_type": "code",
   "execution_count": 14,
   "metadata": {},
   "outputs": [],
   "source": [
    "def training_loop(model, criterion, optimizer, train_loader, val_loader, epochs):\n",
    "\n",
    "    train_losses = []\n",
    "    val_losses = []\n",
    "\n",
    "    for epoch in range(epochs):\n",
    "        model.train()\n",
    "        train_loss = 0.0\n",
    "\n",
    "        for inputs, targets in tqdm(train_loader, desc=f\"[Train Epoch {epoch+1}/{epochs}]\"):\n",
    "            inputs, targets = inputs.to(device), targets.to(device)\n",
    "\n",
    "            output = model(inputs)\n",
    "            output = output.squeeze(1)\n",
    "            loss = torch.sqrt(criterion(output, targets))  # RMSE\n",
    "            # loss = criterion(output, targets)\n",
    "\n",
    "            optimizer.zero_grad()\n",
    "            loss.backward()\n",
    "            optimizer.step()\n",
    "\n",
    "            train_loss += loss.detach().cpu().item() * inputs.size(0)\n",
    "\n",
    "        avg_train_loss = train_loss / len(train_dataset)\n",
    "        train_losses.append(avg_train_loss)\n",
    "\n",
    "        model.eval()\n",
    "        val_loss = 0.0\n",
    "        with torch.no_grad():\n",
    "            for inputs, targets in tqdm(val_loader, desc=f\"[Val Epoch {epoch+1}/{epochs}]\", leave=False):\n",
    "                inputs, targets = inputs.to(device), targets.to(device)\n",
    "                output = model(inputs)\n",
    "                output = output.squeeze(1)\n",
    "                loss = torch.sqrt(criterion(output, targets))  # RMSE\n",
    "                # loss = criterion(output, targets)\n",
    "                val_loss += loss.detach().cpu().item() * inputs.size(0)\n",
    "\n",
    "        avg_val_loss = val_loss / len(val_dataset)\n",
    "        val_losses.append(avg_val_loss)\n",
    "\n",
    "        print(f\"Epoch {epoch+1}/{epochs} | Train RMSE: {avg_train_loss:.6f} | Val RMSE: {avg_val_loss:.6f}\")\n",
    "\n",
    "    return train_losses, val_losses\n",
    "\n",
    "def testing_loop(model, criterion, test_loader):\n",
    "    device = torch.device(\"cuda\" if torch.cuda.is_available() else \"cpu\")\n",
    "    model = model.to(device)\n",
    "    model.eval()\n",
    "    val_loss = 0.0\n",
    "    with torch.no_grad():\n",
    "        for inputs, targets in tqdm(val_loader, desc=f\"[Val Epoch {epoch+1}/{epochs}]\", leave=False):\n",
    "            inputs, targets = inputs.to(device), targets.to(device)\n",
    "            output = model(inputs)\n",
    "            output = output.squeeze(1)\n",
    "            loss = torch.sqrt(criterion(output, targets))  # RMSE\n",
    "            # loss = criterion(output, targets)\n",
    "            val_loss += loss.detach().cpu().item() * inputs.size(0)\n",
    "\n",
    "    avg_val_loss = val_loss / len(val_dataset)\n",
    "    return avg_val_loss\n"
   ]
  },
  {
   "cell_type": "code",
   "execution_count": 15,
   "metadata": {},
   "outputs": [
    {
     "name": "stderr",
     "output_type": "stream",
     "text": [
      "[Train Epoch 1/20]: 100%|██████████| 3544/3544 [00:56<00:00, 62.38it/s]\n",
      "                                                                    \r"
     ]
    },
    {
     "name": "stdout",
     "output_type": "stream",
     "text": [
      "Epoch 1/20 | Train RMSE: 0.040407 | Val RMSE: 0.031928\n"
     ]
    },
    {
     "name": "stderr",
     "output_type": "stream",
     "text": [
      "[Train Epoch 2/20]: 100%|██████████| 3544/3544 [00:51<00:00, 68.55it/s]\n",
      "                                                                    \r"
     ]
    },
    {
     "name": "stdout",
     "output_type": "stream",
     "text": [
      "Epoch 2/20 | Train RMSE: 0.029326 | Val RMSE: 0.012698\n"
     ]
    },
    {
     "name": "stderr",
     "output_type": "stream",
     "text": [
      "[Train Epoch 3/20]: 100%|██████████| 3544/3544 [00:52<00:00, 67.46it/s]\n",
      "                                                                    \r"
     ]
    },
    {
     "name": "stdout",
     "output_type": "stream",
     "text": [
      "Epoch 3/20 | Train RMSE: 0.026464 | Val RMSE: 0.025297\n"
     ]
    },
    {
     "name": "stderr",
     "output_type": "stream",
     "text": [
      "[Train Epoch 4/20]: 100%|██████████| 3544/3544 [00:51<00:00, 68.21it/s]\n",
      "                                                                    \r"
     ]
    },
    {
     "name": "stdout",
     "output_type": "stream",
     "text": [
      "Epoch 4/20 | Train RMSE: 0.019309 | Val RMSE: 0.016943\n"
     ]
    },
    {
     "name": "stderr",
     "output_type": "stream",
     "text": [
      "[Train Epoch 5/20]: 100%|██████████| 3544/3544 [00:51<00:00, 68.41it/s]\n",
      "                                                                    \r"
     ]
    },
    {
     "name": "stdout",
     "output_type": "stream",
     "text": [
      "Epoch 5/20 | Train RMSE: 0.014491 | Val RMSE: 0.011607\n"
     ]
    },
    {
     "name": "stderr",
     "output_type": "stream",
     "text": [
      "[Train Epoch 6/20]: 100%|██████████| 3544/3544 [00:50<00:00, 70.63it/s]\n",
      "                                                                    \r"
     ]
    },
    {
     "name": "stdout",
     "output_type": "stream",
     "text": [
      "Epoch 6/20 | Train RMSE: 0.013212 | Val RMSE: 0.011447\n"
     ]
    },
    {
     "name": "stderr",
     "output_type": "stream",
     "text": [
      "[Train Epoch 7/20]: 100%|██████████| 3544/3544 [00:50<00:00, 70.34it/s]\n",
      "                                                                    \r"
     ]
    },
    {
     "name": "stdout",
     "output_type": "stream",
     "text": [
      "Epoch 7/20 | Train RMSE: 0.012024 | Val RMSE: 0.008724\n"
     ]
    },
    {
     "name": "stderr",
     "output_type": "stream",
     "text": [
      "[Train Epoch 8/20]: 100%|██████████| 3544/3544 [00:49<00:00, 71.75it/s]\n",
      "                                                                    \r"
     ]
    },
    {
     "name": "stdout",
     "output_type": "stream",
     "text": [
      "Epoch 8/20 | Train RMSE: 0.011053 | Val RMSE: 0.006085\n"
     ]
    },
    {
     "name": "stderr",
     "output_type": "stream",
     "text": [
      "[Train Epoch 9/20]: 100%|██████████| 3544/3544 [00:51<00:00, 68.61it/s]\n",
      "                                                                    \r"
     ]
    },
    {
     "name": "stdout",
     "output_type": "stream",
     "text": [
      "Epoch 9/20 | Train RMSE: 0.010397 | Val RMSE: 0.006940\n"
     ]
    },
    {
     "name": "stderr",
     "output_type": "stream",
     "text": [
      "[Train Epoch 10/20]: 100%|██████████| 3544/3544 [00:49<00:00, 70.95it/s]\n",
      "                                                                     \r"
     ]
    },
    {
     "name": "stdout",
     "output_type": "stream",
     "text": [
      "Epoch 10/20 | Train RMSE: 0.010139 | Val RMSE: 0.007510\n"
     ]
    },
    {
     "name": "stderr",
     "output_type": "stream",
     "text": [
      "[Train Epoch 11/20]: 100%|██████████| 3544/3544 [00:51<00:00, 69.34it/s]\n",
      "                                                                     \r"
     ]
    },
    {
     "name": "stdout",
     "output_type": "stream",
     "text": [
      "Epoch 11/20 | Train RMSE: 0.009594 | Val RMSE: 0.006681\n"
     ]
    },
    {
     "name": "stderr",
     "output_type": "stream",
     "text": [
      "[Train Epoch 12/20]: 100%|██████████| 3544/3544 [00:50<00:00, 70.56it/s]\n",
      "                                                                     \r"
     ]
    },
    {
     "name": "stdout",
     "output_type": "stream",
     "text": [
      "Epoch 12/20 | Train RMSE: 0.008956 | Val RMSE: 0.006663\n"
     ]
    },
    {
     "name": "stderr",
     "output_type": "stream",
     "text": [
      "[Train Epoch 13/20]: 100%|██████████| 3544/3544 [00:54<00:00, 65.53it/s]\n",
      "                                                                     \r"
     ]
    },
    {
     "name": "stdout",
     "output_type": "stream",
     "text": [
      "Epoch 13/20 | Train RMSE: 0.008733 | Val RMSE: 0.007438\n"
     ]
    },
    {
     "name": "stderr",
     "output_type": "stream",
     "text": [
      "[Train Epoch 14/20]: 100%|██████████| 3544/3544 [00:54<00:00, 65.17it/s]\n",
      "                                                                     \r"
     ]
    },
    {
     "name": "stdout",
     "output_type": "stream",
     "text": [
      "Epoch 14/20 | Train RMSE: 0.008288 | Val RMSE: 0.004835\n"
     ]
    },
    {
     "name": "stderr",
     "output_type": "stream",
     "text": [
      "[Train Epoch 15/20]: 100%|██████████| 3544/3544 [00:52<00:00, 67.52it/s]\n",
      "                                                                     \r"
     ]
    },
    {
     "name": "stdout",
     "output_type": "stream",
     "text": [
      "Epoch 15/20 | Train RMSE: 0.007776 | Val RMSE: 0.008530\n"
     ]
    },
    {
     "name": "stderr",
     "output_type": "stream",
     "text": [
      "[Train Epoch 16/20]: 100%|██████████| 3544/3544 [00:54<00:00, 65.05it/s]\n",
      "                                                                     \r"
     ]
    },
    {
     "name": "stdout",
     "output_type": "stream",
     "text": [
      "Epoch 16/20 | Train RMSE: 0.007840 | Val RMSE: 0.005499\n"
     ]
    },
    {
     "name": "stderr",
     "output_type": "stream",
     "text": [
      "[Train Epoch 17/20]: 100%|██████████| 3544/3544 [00:53<00:00, 66.47it/s]\n",
      "                                                                     \r"
     ]
    },
    {
     "name": "stdout",
     "output_type": "stream",
     "text": [
      "Epoch 17/20 | Train RMSE: 0.007326 | Val RMSE: 0.011823\n"
     ]
    },
    {
     "name": "stderr",
     "output_type": "stream",
     "text": [
      "[Train Epoch 18/20]: 100%|██████████| 3544/3544 [00:53<00:00, 66.60it/s]\n",
      "                                                                     \r"
     ]
    },
    {
     "name": "stdout",
     "output_type": "stream",
     "text": [
      "Epoch 18/20 | Train RMSE: 0.007281 | Val RMSE: 0.004459\n"
     ]
    },
    {
     "name": "stderr",
     "output_type": "stream",
     "text": [
      "[Train Epoch 19/20]: 100%|██████████| 3544/3544 [00:52<00:00, 67.16it/s]\n",
      "                                                                     \r"
     ]
    },
    {
     "name": "stdout",
     "output_type": "stream",
     "text": [
      "Epoch 19/20 | Train RMSE: 0.006810 | Val RMSE: 0.005836\n"
     ]
    },
    {
     "name": "stderr",
     "output_type": "stream",
     "text": [
      "[Train Epoch 20/20]: 100%|██████████| 3544/3544 [00:53<00:00, 66.63it/s]\n",
      "                                                                     "
     ]
    },
    {
     "name": "stdout",
     "output_type": "stream",
     "text": [
      "Epoch 20/20 | Train RMSE: 0.006862 | Val RMSE: 0.005597\n"
     ]
    },
    {
     "name": "stderr",
     "output_type": "stream",
     "text": [
      "\r"
     ]
    },
    {
     "ename": "NameError",
     "evalue": "name 'epoch' is not defined",
     "output_type": "error",
     "traceback": [
      "\u001b[0;31m---------------------------------------------------------------------------\u001b[0m",
      "\u001b[0;31mNameError\u001b[0m                                 Traceback (most recent call last)",
      "Cell \u001b[0;32mIn[15], line 2\u001b[0m\n\u001b[1;32m      1\u001b[0m train_losses, val_losses \u001b[38;5;241m=\u001b[39m training_loop(model, criterion, optimizer, train_loader, val_loader, epochs)\n\u001b[0;32m----> 2\u001b[0m test_loss \u001b[38;5;241m=\u001b[39m \u001b[43mtesting_loop\u001b[49m\u001b[43m(\u001b[49m\u001b[43mmodel\u001b[49m\u001b[43m,\u001b[49m\u001b[43m \u001b[49m\u001b[43mcriterion\u001b[49m\u001b[43m,\u001b[49m\u001b[43m \u001b[49m\u001b[43mtest_loader\u001b[49m\u001b[43m)\u001b[49m\n\u001b[1;32m      3\u001b[0m \u001b[38;5;28mprint\u001b[39m(\u001b[38;5;124mf\u001b[39m\u001b[38;5;124m\"\u001b[39m\u001b[38;5;124mTest RMSE: \u001b[39m\u001b[38;5;132;01m{\u001b[39;00mtest_loss\u001b[38;5;132;01m:\u001b[39;00m\u001b[38;5;124m.6f\u001b[39m\u001b[38;5;132;01m}\u001b[39;00m\u001b[38;5;124m\"\u001b[39m)\n",
      "Cell \u001b[0;32mIn[14], line 53\u001b[0m, in \u001b[0;36mtesting_loop\u001b[0;34m(model, criterion, test_loader)\u001b[0m\n\u001b[1;32m     51\u001b[0m val_loss \u001b[38;5;241m=\u001b[39m \u001b[38;5;241m0.0\u001b[39m\n\u001b[1;32m     52\u001b[0m \u001b[38;5;28;01mwith\u001b[39;00m torch\u001b[38;5;241m.\u001b[39mno_grad():\n\u001b[0;32m---> 53\u001b[0m     \u001b[38;5;28;01mfor\u001b[39;00m inputs, targets \u001b[38;5;129;01min\u001b[39;00m tqdm(val_loader, desc\u001b[38;5;241m=\u001b[39m\u001b[38;5;124mf\u001b[39m\u001b[38;5;124m\"\u001b[39m\u001b[38;5;124m[Val Epoch \u001b[39m\u001b[38;5;132;01m{\u001b[39;00m\u001b[43mepoch\u001b[49m\u001b[38;5;241m+\u001b[39m\u001b[38;5;241m1\u001b[39m\u001b[38;5;132;01m}\u001b[39;00m\u001b[38;5;124m/\u001b[39m\u001b[38;5;132;01m{\u001b[39;00mepochs\u001b[38;5;132;01m}\u001b[39;00m\u001b[38;5;124m]\u001b[39m\u001b[38;5;124m\"\u001b[39m, leave\u001b[38;5;241m=\u001b[39m\u001b[38;5;28;01mFalse\u001b[39;00m):\n\u001b[1;32m     54\u001b[0m         inputs, targets \u001b[38;5;241m=\u001b[39m inputs\u001b[38;5;241m.\u001b[39mto(device), targets\u001b[38;5;241m.\u001b[39mto(device)\n\u001b[1;32m     55\u001b[0m         output \u001b[38;5;241m=\u001b[39m model(inputs)\n",
      "\u001b[0;31mNameError\u001b[0m: name 'epoch' is not defined"
     ]
    }
   ],
   "source": [
    "train_losses, val_losses = training_loop(model, criterion, optimizer, train_loader, val_loader, epochs)\n"
   ]
  },
  {
   "cell_type": "code",
   "execution_count": 16,
   "metadata": {},
   "outputs": [],
   "source": [
    "def testing_loop(model, criterion, test_loader):\n",
    "    device = torch.device(\"cuda\" if torch.cuda.is_available() else \"cpu\")\n",
    "    model = model.to(device)\n",
    "    model.eval()\n",
    "    val_loss = 0.0\n",
    "    with torch.no_grad():\n",
    "        for inputs, targets in test_loader:\n",
    "            inputs, targets = inputs.to(device), targets.to(device)\n",
    "            output = model(inputs)\n",
    "            output = output.squeeze(1)\n",
    "            loss = torch.sqrt(criterion(output, targets))  # RMSE\n",
    "            # loss = criterion(output, targets)\n",
    "            val_loss += loss.detach().cpu().item() * inputs.size(0)\n",
    "\n",
    "    avg_val_loss = val_loss / len(val_dataset)\n",
    "    return avg_val_loss"
   ]
  },
  {
   "cell_type": "code",
   "execution_count": 17,
   "metadata": {},
   "outputs": [
    {
     "name": "stdout",
     "output_type": "stream",
     "text": [
      "Test RMSE: 0.002312\n"
     ]
    }
   ],
   "source": [
    "test_loss = testing_loop(model, criterion, test_loader)\n",
    "print(f\"Test RMSE: {test_loss:.6f}\")"
   ]
  },
  {
   "cell_type": "code",
   "execution_count": 18,
   "metadata": {},
   "outputs": [
    {
     "data": {
      "text/plain": [
       "<matplotlib.legend.Legend at 0x7fb77afe4520>"
      ]
     },
     "execution_count": 18,
     "metadata": {},
     "output_type": "execute_result"
    },
    {
     "data": {
      "image/png": "[encoded data removed]",
      "text/plain": [
       "<Figure size 640x480 with 1 Axes>"
      ]
     },
     "metadata": {},
     "output_type": "display_data"
    }
   ],
   "source": [
    "plt.plot(train_losses, label='Train RMSE')\n",
    "plt.plot(val_losses, label='Val RMSE')\n",
    "# plt.axvline(best_epoch, color='r', linestyle='--')\n",
    "plt.legend()"
   ]
  },
  {
   "cell_type": "code",
   "execution_count": 19,
   "metadata": {},
   "outputs": [],
   "source": [
    "torch.save(model.state_dict(), 'Unet_APE_model.pth')"
   ]
  }
 ],
 "metadata": {
  "kernelspec": {
   "display_name": "hypernetworks",
   "language": "python",
   "name": "python3"
  },
  "language_info": {
   "codemirror_mode": {
    "name": "ipython",
    "version": 3
   },
   "file_extension": ".py",
   "mimetype": "text/x-python",
   "name": "python",
   "nbconvert_exporter": "python",
   "pygments_lexer": "ipython3",
   "version": "3.10.16"
  }
 },
 "nbformat": 4,
 "nbformat_minor": 2
}
