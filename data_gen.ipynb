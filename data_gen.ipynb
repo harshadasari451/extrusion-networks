{
 "cells": [
  {
   "cell_type": "code",
   "execution_count": 1,
   "metadata": {},
   "outputs": [],
   "source": [
    "import jax\n",
    "import jax.numpy as jnp\n",
    "import matplotlib.pyplot as plt\n",
    "import seaborn as sns"
   ]
  },
  {
   "cell_type": "code",
   "execution_count": 2,
   "metadata": {},
   "outputs": [
    {
     "name": "stderr",
     "output_type": "stream",
     "text": [
      "/home/CAMPUS/hdasari/ENTER/envs/apebench/lib/python3.10/site-packages/trainax/_general_trainer.py:7: TqdmWarning: IProgress not found. Please update jupyter and ipywidgets. See https://ipywidgets.readthedocs.io/en/stable/user_install.html\n",
      "  from tqdm.autonotebook import tqdm\n"
     ]
    }
   ],
   "source": [
    "import apebench"
   ]
  },
  {
   "cell_type": "code",
   "execution_count": 84,
   "metadata": {},
   "outputs": [],
   "source": [
    "from apebench.scenarios.difficulty import Burgers\n",
    "\n",
    "adv_scene = Burgers(\n",
    "    num_spatial_dims=1,\n",
    "    num_points=160,\n",
    "    num_channels=1,\n",
    "    num_train_samples=500,\n",
    "    train_temporal_horizon=50,\n",
    "    train_seed=0,\n",
    "    num_test_samples=30,\n",
    "    test_temporal_horizon=50,\n",
    "    test_seed=773,\n",
    "    gammas=(0.0, 0.0, 0.8, 0.0, 0.0),\n",
    "    diffusion_gamma=0.8\n",
    ")\n"
   ]
  },
  {
   "cell_type": "code",
   "execution_count": 85,
   "metadata": {},
   "outputs": [
    {
     "data": {
      "text/plain": [
       "((500, 51, 1, 160), (30, 51, 1, 160))"
      ]
     },
     "execution_count": 85,
     "metadata": {},
     "output_type": "execute_result"
    }
   ],
   "source": [
    "modified_train_data = adv_scene.get_train_data()\n",
    "modified_test_data = adv_scene.get_test_data()\n",
    "\n",
    "modified_train_data.shape,modified_test_data.shape"
   ]
  },
  {
   "cell_type": "code",
   "execution_count": 86,
   "metadata": {},
   "outputs": [
    {
     "data": {
      "text/plain": [
       "{'num_spatial_dims': 1,\n",
       " 'num_points': 160,\n",
       " 'num_channels': 1,\n",
       " 'ic_config': 'fourier;5;true;true',\n",
       " 'num_warmup_steps': 0,\n",
       " 'num_train_samples': 500,\n",
       " 'train_temporal_horizon': 50,\n",
       " 'train_seed': 0,\n",
       " 'num_test_samples': 30,\n",
       " 'test_temporal_horizon': 50,\n",
       " 'test_seed': 773,\n",
       " 'optim_config': 'adam;10_000;warmup_cosine;0.0;1e-3;2_000',\n",
       " 'batch_size': 20,\n",
       " 'num_trjs_returned': 1,\n",
       " 'record_loss_every': 100,\n",
       " 'vlim': (-1.0, 1.0),\n",
       " 'report_metrics': 'mean_nRMSE',\n",
       " 'callbacks': '',\n",
       " 'gammas': (0.0, 0.0, 0.8, 0.0, 0.0),\n",
       " 'convection_delta': -1.5,\n",
       " 'conservative': True,\n",
       " 'num_substeps': 1,\n",
       " 'coarse_proportion': 0.5,\n",
       " 'order': 2,\n",
       " 'dealiasing_fraction': 0.6666666666666666,\n",
       " 'num_circle_points': 16,\n",
       " 'circle_radius': 1.0,\n",
       " 'diffusion_gamma': 0.8}"
      ]
     },
     "execution_count": 86,
     "metadata": {},
     "output_type": "execute_result"
    }
   ],
   "source": [
    "from dataclasses import asdict\n",
    "modified_metadata = asdict(adv_scene)\n",
    "\n",
    "modified_metadata"
   ]
  },
  {
   "cell_type": "code",
   "execution_count": 87,
   "metadata": {},
   "outputs": [
    {
     "name": "stdout",
     "output_type": "stream",
     "text": [
      "NaN in modified_train_data? False\n",
      "NaN in modified_test_data? False\n"
     ]
    }
   ],
   "source": [
    "import os\n",
    "import json\n",
    "import numpy as np\n",
    "\n",
    "train_np = np.array(modified_train_data)\n",
    "test_np = np.array(modified_test_data)\n",
    "\n",
    "train_has_nan = np.isnan(train_np).any()\n",
    "test_has_nan = np.isnan(test_np).any()\n",
    "\n",
    "print(f\"NaN in modified_train_data? {train_has_nan}\")\n",
    "print(f\"NaN in modified_test_data? {test_has_nan}\")\n",
    "\n"
   ]
  },
  {
   "cell_type": "code",
   "execution_count": 88,
   "metadata": {},
   "outputs": [],
   "source": [
    "\n",
    "download_path = '/home/CAMPUS/hdasari/apebench_experiments/burgers_experiments/data/data_1d'\n",
    "jnp.save(os.path.join( download_path,\"burgers_1d_train_data_exp7.npy\"), modified_train_data)\n",
    "jnp.save(os.path.join(download_path,\"burgers_1d_test_data_exp7.npy\"), modified_test_data )\n",
    "with open(os.path.join(download_path, \"burgers_1d_metadata_exp7.json\"), 'w') as f:\n",
    "    json.dump(modified_metadata, f, indent=4)"
   ]
  }
 ],
 "metadata": {
  "kernelspec": {
   "display_name": "apebench",
   "language": "python",
   "name": "python3"
  },
  "language_info": {
   "codemirror_mode": {
    "name": "ipython",
    "version": 3
   },
   "file_extension": ".py",
   "mimetype": "text/x-python",
   "name": "python",
   "nbconvert_exporter": "python",
   "pygments_lexer": "ipython3",
   "version": "3.10.16"
  }
 },
 "nbformat": 4,
 "nbformat_minor": 2
}
