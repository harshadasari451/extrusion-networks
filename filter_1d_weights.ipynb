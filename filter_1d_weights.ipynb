{
 "cells": [
  {
   "cell_type": "markdown",
   "metadata": {},
   "source": [
    "# Before using Unet1D weights in extrusion_unet2d , filter the weights using the below notebook"
   ]
  },
  {
   "cell_type": "code",
   "execution_count": 1,
   "metadata": {},
   "outputs": [
    {
     "name": "stderr",
     "output_type": "stream",
     "text": [
      "/tmp/ipykernel_4095545/2150452761.py:4: FutureWarning: You are using `torch.load` with `weights_only=False` (the current default value), which uses the default pickle module implicitly. It is possible to construct malicious pickle data which will execute arbitrary code during unpickling (See https://github.com/pytorch/pytorch/blob/main/SECURITY.md#untrusted-models for more details). In a future release, the default value for `weights_only` will be flipped to `True`. This limits the functions that could be executed during unpickling. Arbitrary objects will no longer be allowed to be loaded via this mode unless they are explicitly allowlisted by the user via `torch.serialization.add_safe_globals`. We recommend you start setting `weights_only=True` for any use case where you don't have full control of the loaded file. Please open an issue on GitHub for any issues related to this experimental feature.\n",
      "  model_dict = torch.load(checkpoint)\n"
     ]
    }
   ],
   "source": [
    "import torch\n",
    "# Load state dict directly\n",
    "checkpoint = '/home/CAMPUS/hdasari/apebench_experiments/mse_experiments/vanilla_1d/checkpoints/new_checks_june19/model_epoch_20.pth'\n",
    "model_dict = torch.load(checkpoint)\n",
    "\n",
    "state_dict_1d = model_dict['model_state_dict']\n",
    "\n",
    "# Dictionary to store filtered weights/biases\n",
    "unet_1d_weights_biases = {}\n",
    "\n",
    "# Filter logic\n",
    "for name, param in state_dict_1d.items():\n",
    "    if (\"conv\" in name and (\"weight\" in name or \"bias\" in name)) and not (\"norm\" in name or \"running\" in name):\n",
    "        unet_1d_weights_biases[name] = param\n",
    "    elif \"upconv\" in name and (\"weight\" in name or \"bias\" in name):\n",
    "        unet_1d_weights_biases[name] = param"
   ]
  },
  {
   "cell_type": "code",
   "execution_count": 2,
   "metadata": {},
   "outputs": [
    {
     "name": "stdout",
     "output_type": "stream",
     "text": [
      "Layer: encoder1.enc1conv1.weight\n",
      "Weights shape: torch.Size([32, 1, 3])\n",
      "\n",
      "Layer: encoder1.enc1conv2.weight\n",
      "Weights shape: torch.Size([32, 32, 3])\n",
      "\n",
      "Layer: encoder2.enc2conv1.weight\n",
      "Weights shape: torch.Size([64, 32, 3])\n",
      "\n",
      "Layer: encoder2.enc2conv2.weight\n",
      "Weights shape: torch.Size([64, 64, 3])\n",
      "\n",
      "Layer: encoder3.enc3conv1.weight\n",
      "Weights shape: torch.Size([128, 64, 3])\n",
      "\n",
      "Layer: encoder3.enc3conv2.weight\n",
      "Weights shape: torch.Size([128, 128, 3])\n",
      "\n",
      "Layer: encoder4.enc4conv1.weight\n",
      "Weights shape: torch.Size([256, 128, 3])\n",
      "\n",
      "Layer: encoder4.enc4conv2.weight\n",
      "Weights shape: torch.Size([256, 256, 3])\n",
      "\n",
      "Layer: bottleneck.bottleneckconv1.weight\n",
      "Weights shape: torch.Size([512, 256, 3])\n",
      "\n",
      "Layer: bottleneck.bottleneckconv2.weight\n",
      "Weights shape: torch.Size([512, 512, 3])\n",
      "\n",
      "Layer: upconv4.weight\n",
      "Weights shape: torch.Size([512, 256, 2])\n",
      "\n",
      "Layer: upconv4.bias\n",
      "Weights shape: torch.Size([256])\n",
      "\n",
      "Layer: decoder4.dec4conv1.weight\n",
      "Weights shape: torch.Size([256, 512, 3])\n",
      "\n",
      "Layer: decoder4.dec4conv2.weight\n",
      "Weights shape: torch.Size([256, 256, 3])\n",
      "\n",
      "Layer: upconv3.weight\n",
      "Weights shape: torch.Size([256, 128, 2])\n",
      "\n",
      "Layer: upconv3.bias\n",
      "Weights shape: torch.Size([128])\n",
      "\n",
      "Layer: decoder3.dec3conv1.weight\n",
      "Weights shape: torch.Size([128, 256, 3])\n",
      "\n",
      "Layer: decoder3.dec3conv2.weight\n",
      "Weights shape: torch.Size([128, 128, 3])\n",
      "\n",
      "Layer: upconv2.weight\n",
      "Weights shape: torch.Size([128, 64, 2])\n",
      "\n",
      "Layer: upconv2.bias\n",
      "Weights shape: torch.Size([64])\n",
      "\n",
      "Layer: decoder2.dec2conv1.weight\n",
      "Weights shape: torch.Size([64, 128, 3])\n",
      "\n",
      "Layer: decoder2.dec2conv2.weight\n",
      "Weights shape: torch.Size([64, 64, 3])\n",
      "\n",
      "Layer: upconv1.weight\n",
      "Weights shape: torch.Size([64, 32, 2])\n",
      "\n",
      "Layer: upconv1.bias\n",
      "Weights shape: torch.Size([32])\n",
      "\n",
      "Layer: decoder1.dec1conv1.weight\n",
      "Weights shape: torch.Size([32, 64, 3])\n",
      "\n",
      "Layer: decoder1.dec1conv2.weight\n",
      "Weights shape: torch.Size([32, 32, 3])\n",
      "\n",
      "Layer: conv.weight\n",
      "Weights shape: torch.Size([1, 32, 1])\n",
      "\n",
      "Layer: conv.bias\n",
      "Weights shape: torch.Size([1])\n",
      "\n"
     ]
    }
   ],
   "source": [
    "for name, param in unet_1d_weights_biases.items():\n",
    "        print(f\"Layer: {name}\")\n",
    "        print(f\"Weights shape: {param.shape}\\n\")"
   ]
  },
  {
   "cell_type": "code",
   "execution_count": 3,
   "metadata": {},
   "outputs": [],
   "source": [
    "torch.save(unet_1d_weights_biases, 'new_june19_mse_epoch_20_unet_1d_weights_biases.pth')"
   ]
  },
  {
   "cell_type": "code",
   "execution_count": null,
   "metadata": {},
   "outputs": [],
   "source": []
  }
 ],
 "metadata": {
  "kernelspec": {
   "display_name": "battery-hyp",
   "language": "python",
   "name": "python3"
  },
  "language_info": {
   "codemirror_mode": {
    "name": "ipython",
    "version": 3
   },
   "file_extension": ".py",
   "mimetype": "text/x-python",
   "name": "python",
   "nbconvert_exporter": "python",
   "pygments_lexer": "ipython3",
   "version": "3.10.16"
  }
 },
 "nbformat": 4,
 "nbformat_minor": 2
}
